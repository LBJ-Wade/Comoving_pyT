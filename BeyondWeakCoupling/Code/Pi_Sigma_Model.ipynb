{
 "cells": [
  {
   "cell_type": "code",
   "execution_count": 1,
   "id": "f036ac48",
   "metadata": {},
   "outputs": [],
   "source": [
    "import numpy as np\n",
    "import matplotlib.pyplot as plt\n",
    "import matplotlib\n",
    "plt.rc('text', usetex=True)\n",
    "plt.rc('font', family='serif')\n",
    "import time\n",
    "from pylab import meshgrid,cm,imshow,contour,clabel,colorbar,axis,title,show\n"
   ]
  },
  {
   "cell_type": "code",
   "execution_count": null,
   "id": "17a71b1c",
   "metadata": {},
   "outputs": [],
   "source": [
    "from background_inputs import background_inputs\n",
    "from model import model\n",
    "from solver import solver"
   ]
  },
  {
   "cell_type": "markdown",
   "id": "6d84c3ad",
   "metadata": {},
   "source": [
    "# Phase space of $\\pi-\\sigma$ model"
   ]
  },
  {
   "cell_type": "code",
   "execution_count": null,
   "id": "6e3b6a8a",
   "metadata": {},
   "outputs": [],
   "source": [
    "from scipy.integrate import odeint\n",
    "\n",
    "m2 = 1\n",
    "H = 1\n",
    "rho = 1\n",
    "k = 1\n",
    "\n",
    "def system(y, N):\n",
    "    pi, dpi, sigma, dsigma = y\n",
    "    dydN = [dpi, -rho/H*(sigma + dsigma) - 3*dpi - k**2/H**2/np.exp(2*N)*pi, dsigma, rho/H*dpi - (k**2/H**2/np.exp(2*N) + m2/H**2)*sigma - 3*dsigma]\n",
    "    return dydN\n",
    "\n",
    "\n",
    "N = np.linspace(-3, 10, 1000)\n",
    "y0 = [1/np.sqrt(2*k)*np.exp(N[0]), k/np.sqrt(2*k), 1/np.sqrt(2*k)*np.exp(N[0]), k/np.sqrt(2*k)]\n",
    "\n",
    "sol = odeint(system, y0, N)\n"
   ]
  },
  {
   "cell_type": "code",
   "execution_count": null,
   "id": "ff474b9e",
   "metadata": {},
   "outputs": [],
   "source": [
    "plt.plot(N, sol[:, 0], label='$\\pi$')\n",
    "plt.plot(N, sol[:, 2], label='$\\sigma$')\n",
    "plt.legend(loc = 'best', frameon = False)\n",
    "plt.xlabel('$N$', fontsize = 15)\n",
    "plt.grid()"
   ]
  },
  {
   "cell_type": "code",
   "execution_count": null,
   "id": "cef6e2e2",
   "metadata": {},
   "outputs": [],
   "source": [
    "plt.plot(sol[:, 0], sol[:, 2])\n",
    "plt.xlabel(\"$\\pi$\", fontsize = 15)\n",
    "plt.ylabel(\"$\\sigma$\", fontsize = 15)"
   ]
  },
  {
   "cell_type": "code",
   "execution_count": null,
   "id": "323592d2",
   "metadata": {},
   "outputs": [],
   "source": [
    "plt.plot(N, sol[:, 0]**2)"
   ]
  },
  {
   "cell_type": "markdown",
   "id": "be42c6b3",
   "metadata": {},
   "source": [
    "## Time-evolution of various correlators"
   ]
  },
  {
   "cell_type": "code",
   "execution_count": null,
   "id": "5c4535a7",
   "metadata": {},
   "outputs": [],
   "source": [
    "ref = 0.49973742837658897 #Sigma_{pi pi} for decoupled fields"
   ]
  },
  {
   "cell_type": "code",
   "execution_count": null,
   "id": "abc79841",
   "metadata": {},
   "outputs": [],
   "source": [
    "N_load = np.linspace(-5, 10, 500)\n",
    "H_load = np.ones(500)\n",
    "rho_load = 5*np.ones(500)\n",
    "m2_load = 0.5*np.ones(500)\n",
    "\n",
    "Omega_load = 0\n",
    "Vabc_load = 0\n",
    "Rasbs_load = 0\n",
    "Rabcs_load = 0\n",
    "Rasbs_c_load = 0\n",
    "\n",
    "background = background_inputs(N_load, H_load, rho_load, Omega_load, m2_load, Vabc_load, Rasbs_load, Rabcs_load, Rasbs_c_load)\n",
    "interpolated = background.output()"
   ]
  },
  {
   "cell_type": "code",
   "execution_count": null,
   "id": "5a36cc9a",
   "metadata": {},
   "outputs": [],
   "source": [
    "%matplotlib\n",
    "Nspan = np.linspace(-5, 10, 500)\n",
    "Nfield = 2\n",
    "Rtol, Atol = [1e-3, 1e-5, 1e-3], [1e-100, 1e-100, 1e-6]\n",
    "\n",
    "mdl = model(N = Nspan, Nfield = Nfield, interpolated = interpolated)\n",
    "\n",
    "\n",
    "N_exit = 0\n",
    "k = mdl.k_mode(N_exit)\n",
    "print(\"k = {}\".format(k))\n",
    "\n",
    "DeltaN = 5 # number of efolds before horizon crossing\n",
    "Ni, Nf, Nsample = N_exit - DeltaN, 10, 1000 # sets initial and final efolds for transport equation integration\n",
    "N = np.linspace(Ni, Nf, Nsample)\n",
    "s = solver(Nspan = N, Nfield = Nfield, interpolated = interpolated, Rtol = Rtol, Atol = Atol)\n",
    "\n",
    "\n",
    "start_time = time.time()\n",
    "rescaling = k**3/2/np.pi**2\n",
    "ref = 0.49973742837658897*rescaling #Sigma_{pi pi} for decoupled fields\n",
    "SigmaAB = s.SigmaAB_solution(k = k, part = \"Re\")*rescaling #to have the dimensionless power spectrum\n",
    "print(\"The power spectra computation took\", time.time() - start_time, \"sec to run\")\n",
    "\n",
    "\n",
    "#Plotting the power spectra\n",
    "plt.semilogy(N, np.absolute(SigmaAB[0, 0])/ref, label = \"$XX = \\pi\\pi$\")\n",
    "plt.semilogy(N, np.absolute(SigmaAB[1, 1])/ref*np.exp(3*N), label = \"$XX = \\sigma\\sigma$\")\n",
    "#plt.semilogy(N, np.absolute(SigmaAB[0, 1]), label = \"$XX = \\zeta\\cal{F}$\")\n",
    "#plt.semilogy(N, np.absolute(SigmaAB[2, 2]), label = \"$XX = p_\\pi p_\\pi$\")\n",
    "#plt.semilogy(N, np.absolute(SigmaAB[3, 3]), label = \"$XX = p_\\sigma p_\\sigma$\")\n",
    "#plt.semilogy(N, np.absolute(SigmaAB[2, 3]), label = \"$XX = \\pi_\\zeta\\pi_{\\cal{F}}$\")\n",
    "#plt.semilogy(N, np.absolute(SigmaAB[0, 2]), label = \"$XX = \\zeta\\pi_\\zeta$\")\n",
    "#plt.semilogy(N, np.absolute(SigmaAB[1, 3]), label = \"$XX = \\cal{F}\\pi_{\\cal{F}}$\")\n",
    "\n",
    "#plt.semilogy(N, np.absolute(SigmaAB[2, 2] - 3*rho_load[0]**2*SigmaAB[1, 1]), label = \"$XX = \\dot{\\pi} \\dot{\\pi}$\")\n",
    "\n",
    "\n",
    "#meff2 = m2_load[0] + rho_load[0]**2\n",
    "#nu = np.sqrt(9/4 - meff2/H_load[0]**2)\n",
    "#plt.semilogy(N, np.exp(-(3-2*nu)*N), ls = \"--\", color = \"k\", label = \"$1/a^{3-2\\\\nu}$\")\n",
    "#plt.semilogy(N, np.exp(-3*N), ls = \"--\", color = \"k\", label = \"$1/a^3$\")\n",
    "\n",
    "plt.axvline(x = N_exit, ls = \"--\", color = \"grey\")\n",
    "plt.xlabel(\"$N$\", fontsize = 15)\n",
    "#plt.ylim(1e-8, 1e5)\n",
    "plt.title(\"massive case, $m^2/H^2 = {}, \\\\rho/H = {}$\".format(m2_load[0], rho_load[0]), fontsize = 15)\n",
    "plt.ylabel(\"Re$(\\Sigma^{XX})/\\cal{P}_{\\pi}$\", fontsize = 15)\n",
    "plt.grid(True)\n",
    "plt.legend(frameon = False)\n",
    "plt.show()"
   ]
  },
  {
   "cell_type": "markdown",
   "id": "8968ff39",
   "metadata": {},
   "source": [
    "## Parameter space scan"
   ]
  },
  {
   "cell_type": "code",
   "execution_count": null,
   "id": "db66b1c9",
   "metadata": {},
   "outputs": [],
   "source": [
    "N_load = np.linspace(-5, 10, 500)\n",
    "H_load = np.ones(500)\n",
    "\n",
    "Omega_load = 0\n",
    "Vabc_load = 0\n",
    "Rasbs_load = 0\n",
    "Rabcs_load = 0\n",
    "Rasbs_c_load = 0\n"
   ]
  },
  {
   "cell_type": "code",
   "execution_count": null,
   "id": "4236dfa5",
   "metadata": {},
   "outputs": [],
   "source": [
    "n = 10\n",
    "m2 = np.linspace(0, 10, n)\n",
    "rho2 = np.linspace(0, 10, n)\n",
    "\n",
    "pipi = []\n",
    "\n",
    "for i in range(n):\n",
    "    print(\"i=\",i)\n",
    "    A = []\n",
    "    for j in range(n):\n",
    "        print(\"j=\", j)\n",
    "        rho_load = np.sqrt(rho2[i])*np.ones(500)\n",
    "        m2_load = m2[j]*np.ones(500)\n",
    "        \n",
    "        background = background_inputs(N_load, H_load, rho_load, Omega_load, m2_load, Vabc_load, Rasbs_load, Rabcs_load, Rasbs_c_load)\n",
    "        interpolated = background.output()\n",
    "        \n",
    "        Nspan = np.linspace(-5, 10, 500)\n",
    "        Nfield = 2\n",
    "        Rtol, Atol = [1e-3, 1e-5, 1e-3], [1e-100, 1e-100, 1e-6]\n",
    "\n",
    "        mdl = model(N = Nspan, Nfield = Nfield, interpolated = interpolated)\n",
    "\n",
    "        N_exit = 0\n",
    "        k = mdl.k_mode(N_exit)\n",
    "\n",
    "        DeltaN = 5 # number of efolds before horizon crossing\n",
    "        Ni, Nf, Nsample = N_exit - DeltaN, 10, 1000 # sets initial and final efolds for transport equation integration\n",
    "        N = np.linspace(Ni, Nf, Nsample)\n",
    "        s = solver(Nspan = N, Nfield = Nfield, interpolated = interpolated, Rtol = Rtol, Atol = Atol)\n",
    "        \n",
    "        rescaling = k**3/2/np.pi**2\n",
    "        ref = 0.49973742837658897*rescaling #Sigma_{pi pi} for decoupled fields\n",
    "        SigmaAB = s.SigmaAB_solution(k = k, part = \"Re\")*rescaling #to have the dimensionless power spectrum\n",
    "        \n",
    "        Correlators = SigmaAB/ref\n",
    "        A.append(Correlators[0, 0])\n",
    "    pipi.append(A)\n",
    "        "
   ]
  },
  {
   "cell_type": "code",
   "execution_count": null,
   "id": "9b80373f",
   "metadata": {},
   "outputs": [],
   "source": [
    "%matplotlib\n",
    "X, Y = meshgrid(m2, rho2) # grid of point\n",
    "Z = np.transpose(pipi, (2, 0, 1))[-1]\n",
    "\n",
    "\n",
    "plt.pcolor(X, Y, 1/Z, cmap = cm.RdBu)\n",
    "clb = plt.colorbar()\n",
    "plt.clim(0, 1)\n",
    "plt.title(\"$\\\\beta(m^2/H^2, \\\\rho^2/H^2)$\", fontsize = 15)\n",
    "plt.xlabel(\"$m^2/H^2$\", fontsize = 15)\n",
    "#ax.set_xticks([-1, 0, 1])\n",
    "plt.ylabel(\"$\\\\rho^2/H^2$\", fontsize = 15)\n",
    "#ax.set_yticks([-1, 0, 1])\n",
    "\n",
    "\n",
    "plt.show()    "
   ]
  },
  {
   "cell_type": "markdown",
   "id": "94243d15",
   "metadata": {},
   "source": [
    "### Plot one-dimensional slices"
   ]
  },
  {
   "cell_type": "code",
   "execution_count": null,
   "id": "5699dcad",
   "metadata": {},
   "outputs": [],
   "source": [
    "#Heavy case\n",
    "m2 = np.linspace(0, 10, n)\n",
    "rho2 = np.linspace(0, 10, n)\n",
    "Z_heavy = []\n",
    "cs = (1 + rho2/(m2[-1] + rho2))**(-1/2)\n",
    "\n",
    "for i in range(n):\n",
    "        Z_heavy.append(pipi[i][-1][-1])\n",
    "\n",
    "        \n",
    "plt.plot(rho2, 1/np.asarray(Z_heavy))\n",
    "plt.plot(rho2, cs)\n",
    "plt.plot(rho2, np.sqrt(cs/np.sqrt(m2[-1] + rho2)*np.sqrt(m2[-1])))\n",
    "plt.xlabel(\"$\\\\rho^2/H^2$\", fontsize = 15)\n",
    "plt.ylabel(\"$\\\\beta(m^2/H^2, \\\\rho^2/H^2)$\", fontsize = 15)\n",
    "plt.title(\"$m^2/H^2=10$\", fontsize = 15)"
   ]
  },
  {
   "cell_type": "markdown",
   "id": "0bb9809d",
   "metadata": {},
   "source": [
    "# Initial conditions"
   ]
  },
  {
   "cell_type": "code",
   "execution_count": null,
   "id": "f1d35a0c",
   "metadata": {},
   "outputs": [],
   "source": [
    "from background_inputs import background_inputs\n",
    "from model import model\n",
    "from solver import solver"
   ]
  },
  {
   "cell_type": "code",
   "execution_count": null,
   "id": "1375f77e",
   "metadata": {},
   "outputs": [],
   "source": [
    "n_back = 500 #Number of points for the background\n",
    "\n",
    "N_load = np.linspace(-10, 10, n_back)\n",
    "H_load = np.ones(n_back) #Hubble scale set to unity\n",
    "rho_load = 1e2*np.ones(n_back)\n",
    "m2_load = 1e-1*np.ones(n_back)\n",
    "\n",
    "mu_load = 0*np.ones(n_back)\n",
    "kappa1_load = 1*np.ones(n_back)\n",
    "kappa2_load = 0*np.ones(n_back)\n",
    "\n",
    "background = background_inputs(N_load, H_load, rho_load, mu_load, m2_load, kappa1_load, kappa2_load)\n",
    "interpolated = background.output()"
   ]
  },
  {
   "cell_type": "code",
   "execution_count": null,
   "id": "89dbef6e",
   "metadata": {},
   "outputs": [],
   "source": [
    "#Solve the bispectrum\n",
    "%matplotlib\n",
    "Nspan = np.linspace(-10, 10, 500)\n",
    "Nfield = 2\n",
    "Rtol, Atol = [1e-3, 1e-3, 1e-3], [1e-6, 1e-3, 1e-180]\n",
    "\n",
    "mdl = model(N = Nspan, Nfield = Nfield, interpolated = interpolated)\n",
    "\n",
    "N_exit = 0\n",
    "kt = mdl.k_mode(N_exit)\n",
    "k1, k2, k3 = kt, kt, kt\n",
    "rescaling = k1**3/2/np.pi**2\n",
    "print(\"k1 = {}, k2 = {}, k3 = {}\".format(k1, k2, k3))\n",
    "\n",
    "DeltaN = 8 # number of efolds before horizon crossing\n",
    "Ni, Nf = N_exit - DeltaN, 10 # sets initial and final efolds for transport equation integration\n",
    "N = np.linspace(Ni, Nf, 1000)\n",
    "s = solver(Nspan = N, Nfield = Nfield, interpolated = interpolated, Rtol = Rtol, Atol = Atol)\n",
    "\n",
    "start_time = time.time()\n",
    "f = s.f_solution(k1 = k1, k2 = k2, k3 = k3)\n",
    "print(\"The spectra/bispectra computation took\", time.time() - start_time, \"sec to run\")"
   ]
  },
  {
   "cell_type": "code",
   "execution_count": null,
   "id": "282c1e0f",
   "metadata": {},
   "outputs": [],
   "source": [
    "S = 1/(2*np.pi)**4/((f[0][0, 0][-1]*k1**3/2/np.pi**2 + f[1][0, 0][-1]*k2**3/2/np.pi**2 + f[2][0, 0][-1]*k3**3/2/np.pi**2)/3)**2 * (k1*k2*k3)**2 * f[6][0, 0, 0]\n",
    "fNL = 5/18 * f[6][0, 0, 0][-1]/f[0][0, 0][-1]**2\n",
    "print(\"fNL = \", fNL)\n",
    "print(\"S = \", S[-1])"
   ]
  },
  {
   "cell_type": "code",
   "execution_count": null,
   "id": "1d6a0ddf",
   "metadata": {},
   "outputs": [],
   "source": [
    "Nfield = 2\n",
    "N_IC = np.linspace(-10, 10, 1000)\n",
    "Rtol, Atol = [1e-3, 1e-5, 1e-3], [1e-1, 1e-100, 1e-6]\n",
    "\n",
    "Binit = np.zeros((2*Nfield, 2*Nfield, 2*Nfield, len(N)))\n",
    "for i in range(len(N)):\n",
    "    Ni = np.asarray([N_IC[i]])\n",
    "    s = solver(Nspan = Ni, Nfield = Nfield, interpolated = interpolated, Rtol = Rtol, Atol = Atol)\n",
    "    Binit[:, :, :, i] = s.B_init(k1, k2, k3)"
   ]
  },
  {
   "cell_type": "code",
   "execution_count": null,
   "id": "4bc68e6f",
   "metadata": {},
   "outputs": [],
   "source": [
    "P1 = np.absolute(f[0][0, 0]) * k1**3/2/np.pi**2\n",
    "P2 = np.absolute(f[1][0, 0]) * k2**3/2/np.pi**2\n",
    "P3 = np.absolute(f[2][0, 0]) * k3**3/2/np.pi**2\n",
    "\n",
    "plt.semilogy(N, P1)\n",
    "plt.semilogy(N, P2)\n",
    "plt.semilogy(N, P3)"
   ]
  },
  {
   "cell_type": "code",
   "execution_count": null,
   "id": "5ced3e43",
   "metadata": {},
   "outputs": [],
   "source": [
    "#Oscillations in varphi\n",
    "plt.semilogy(N, np.abs(f[6][0, 0, 0]), color = \"C0\", label = \"$\\\\varphi\\\\varphi\\\\varphi$\")\n",
    "#plt.semilogy(N_IC, np.abs(Binit[0, 0, 0]), \"--\", color = \"C0\", label = \"initial conditions\")\n",
    "\n",
    "plt.semilogy(N, np.abs(f[6][0, 0, 2]), color = \"C1\", label = \"$\\\\varphi p_{\\\\varphi}$\")\n",
    "#plt.semilogy(N_IC, np.abs(Binit[0, 0, 2]), \"--\", color = \"C1\", label = \"initial conditions\")\n",
    "\n",
    "plt.semilogy(N, np.abs(f[6][0, 2, 2]), color = \"C2\", label = \"$\\\\varphi p_{\\\\varphi}p_{\\\\varphi}$\")\n",
    "#plt.semilogy(N_IC, np.abs(Binit[0, 2, 2]), \"--\", color = \"C2\", label = \"initial conditions\")\n",
    "\n",
    "plt.semilogy(N, np.abs(f[6][2, 2, 2]), color = \"C3\", label = \"$p_{\\\\varphi}p_{\\\\varphi}p_{\\\\varphi}$\")\n",
    "#plt.semilogy(N_IC, np.abs(Binit[2, 2, 2]), \"--\", color = \"C3\", label = \"initial conditions\")\n",
    "\n",
    "plt.xlabel(\"$N$\", fontsize = 15)\n",
    "plt.axvline(x = N_exit, ls = \"--\", color = \"grey\", label = \"horizon crossing\")\n",
    "plt.legend(frameon = False)\n",
    "plt.grid(False)"
   ]
  },
  {
   "cell_type": "code",
   "execution_count": null,
   "id": "2423aaab",
   "metadata": {},
   "outputs": [],
   "source": [
    "#Oscillations in cross-terms varphi/sigma\n",
    "plt.semilogy(N, np.abs(f[6][0, 0, 1]), color = \"C0\", label = \"$\\\\varphi\\\\varphi\\sigma$\")\n",
    "plt.semilogy(N_IC, np.abs(Binit[0, 0, 1]), \"--\", color = \"C0\")\n",
    "\n",
    "plt.semilogy(N, np.abs(f[6][0, 1, 1]), color = \"C1\", label = \"$\\\\varphi\\sigma\\sigma$\")\n",
    "plt.semilogy(N_IC, np.abs(Binit[0, 1, 1]), \"--\", color = \"C1\")\n",
    "\n",
    "plt.semilogy(N, np.abs(f[6][0, 0, 3]), color = \"C2\", label = \"$\\\\varphi\\\\varphi p_{\\sigma}$\")\n",
    "#plt.semilogy(N_IC, np.abs(Binit[0, 0, 3]), \"--\", color = \"C2\")\n",
    "\n",
    "plt.semilogy(N, np.abs(f[6][0, 3, 3]), color = \"C3\", label = \"$\\\\varphi p_{\\sigma}p_{\\sigma}$\")\n",
    "plt.semilogy(N_IC, np.abs(Binit[0, 3, 3]), \"--\", color = \"C3\")\n",
    "\n",
    "plt.semilogy(N, np.abs(f[6][2, 1, 1]), color = \"C4\", label = \"$p_{\\\\varphi}\\sigma\\sigma$\")\n",
    "plt.semilogy(N_IC, np.abs(Binit[2, 1, 1]), \"--\", color = \"C4\")\n",
    "\n",
    "plt.semilogy(N, np.abs(f[6][2, 2, 1]), color = \"C5\", label = \"$p_{\\\\varphi}p_{\\\\varphi}\\sigma$\")\n",
    "plt.semilogy(N_IC, np.abs(Binit[2, 2, 1]), \"--\", color = \"C5\")\n",
    "\n",
    "plt.xlabel(\"$N$\", fontsize = 15)\n",
    "plt.axvline(x = N_exit, ls = \"--\", color = \"grey\", label = \"horizon crossing\")\n",
    "plt.legend()\n",
    "plt.grid(False)"
   ]
  },
  {
   "cell_type": "markdown",
   "id": "362ffae6",
   "metadata": {},
   "source": [
    "# Shape function"
   ]
  },
  {
   "cell_type": "code",
   "execution_count": null,
   "id": "7207a33d",
   "metadata": {},
   "outputs": [],
   "source": [
    "from background_inputs import background_inputs\n",
    "from model import model\n",
    "from solver import solver"
   ]
  },
  {
   "cell_type": "code",
   "execution_count": null,
   "id": "6cd9ad3a",
   "metadata": {},
   "outputs": [],
   "source": [
    "n_back = 500 #Number of points for the background\n",
    "\n",
    "N_load = np.linspace(-5, 10, n_back)\n",
    "H_load = np.ones(n_back) #Hubble scale set to unity\n",
    "rho_load = 1*np.ones(n_back)\n",
    "m2_load = 1*np.ones(n_back)\n",
    "\n",
    "mu_load = 1*np.ones(n_back)\n",
    "kappa1_load = 0*np.ones(n_back)\n",
    "kappa2_load = 1*np.ones(n_back)\n",
    "\n",
    "background = background_inputs(N_load, H_load, rho_load, mu_load, m2_load, kappa1_load, kappa2_load)\n",
    "interpolated = background.output()"
   ]
  },
  {
   "cell_type": "code",
   "execution_count": null,
   "id": "1f56eb32",
   "metadata": {},
   "outputs": [],
   "source": [
    "start_time = time.time()\n",
    "Nspan = np.linspace(-10, 10, n_back)\n",
    "Nfield = 2\n",
    "Rtol, Atol = [1e-3, 1e-3, 1e-3], [1e-6, 1e-3, 1e-180]\n",
    "\n",
    "mdl = model(N = Nspan, Nfield = Nfield, interpolated = interpolated)\n",
    "\n",
    "N_exit = 0\n",
    "k1 = mdl.k_mode(N_exit)\n",
    "\n",
    "\n",
    "n = 30\n",
    "x3 = np.linspace(0+1e-2, 1-1e-2, n) #k3/k1\n",
    "x2 = np.linspace(0.5+1e-2, 1-1e-2, n) #k2/k1\n",
    "\n",
    "Shape = np.zeros((n, n))\n",
    "\n",
    "for i in range(n):\n",
    "    for j in range(n):\n",
    "        print(\"i = {}/{}, j = {}/{}\".format(i, n, j, n))\n",
    "        if x2[j] >= 0.25*x3[i] + 0.75 or x2[j] <= -0.25*x3[i] + 0.75:\n",
    "            Shape[i, j] = np.log(0)\n",
    "        else:\n",
    "            mdl = model(N = Nspan, Nfield = Nfield, interpolated = interpolated)\n",
    "            N_exit = 0\n",
    "            k1 = mdl.k_mode(N_exit)\n",
    "            k2 = k1*x2[i]\n",
    "            k3 = k1*x3[j]\n",
    "\n",
    "            DeltaN = 6 # number of efolds before horizon crossing\n",
    "            Ni, Nf = N_exit - DeltaN, 10 # sets initial and final efolds for transport equation integration\n",
    "            N = np.linspace(Ni, Nf, 1000)\n",
    "            s = solver(Nspan = N, Nfield = Nfield, interpolated = interpolated, Rtol = Rtol, Atol = Atol)\n",
    "\n",
    "            N1 = mdl.efold_mode(k1, Nf, N_exit)\n",
    "            N2 = mdl.efold_mode(k2, Nf, N_exit)\n",
    "            N3 = mdl.efold_mode(k3, Nf, N_exit)\n",
    "            print(\"N1 = {}, N2 = {}, N3 = {}\".format(N1, N2, N3))\n",
    "\n",
    "            start_time = time.time()\n",
    "            f = s.f_solution(k1 = k1, k2 = k2, k3 = k3)\n",
    "            print(\"The spectra/bispectra computation took\", time.time() - start_time, \"sec to run\")\n",
    "\n",
    "            S = 1/(2*np.pi)**4/((f[0][0, 0][-1]*k1**3/2/np.pi**2 + f[1][0, 0][-1]*k2**3/2/np.pi**2 + f[2][0, 0][-1]*k3**3/2/np.pi**2)/3)**2 * (k1*k2*k3)**2 * f[6][0, 0, 0]\n",
    "\n",
    "            Shape[i, j] = S[-1]\n",
    "\n",
    "\n",
    "#np.save(\"x3.npy\", x3)\n",
    "#np.save(\"x2.npy\", x2)\n",
    "#np.save(\"Shape.npy\", Shape)"
   ]
  },
  {
   "cell_type": "code",
   "execution_count": null,
   "id": "c0f2a97a",
   "metadata": {},
   "outputs": [],
   "source": [
    "fig = plt.figure()\n",
    "\n",
    "ax = fig.add_subplot(111)\n",
    "X3, X2 = np.meshgrid(x3, x2)\n",
    "ax.contourf(X3, X2, Shape)\n",
    "\n",
    "ax.set_xticks([0, 0.5, 1])\n",
    "ax.set_yticks([0.5, 0.75, 1])\n",
    "ax.plot(0.5*x3+0.5, x2, color = \"k\", ls = \"--\")\n",
    "ax.plot(-0.5*x3+0.5, x2, color = \"k\", ls = \"--\")\n",
    "\n",
    "contourf_ = ax.contourf(X3, X2, Shape, n, cmap = \"hot\")\n",
    "cbar = fig.colorbar(contourf_)\n",
    "plt.show()"
   ]
  },
  {
   "cell_type": "code",
   "execution_count": null,
   "id": "2d449628",
   "metadata": {},
   "outputs": [],
   "source": [
    "%matplotlib\n",
    "from matplotlib import cm\n",
    "from matplotlib.ticker import LinearLocator\n",
    "\n",
    "Z = Shape\n",
    "\n",
    "Z[Z < -1e5] = 0\n",
    "\n",
    "fig, ax = plt.subplots(subplot_kw={\"projection\": \"3d\"})\n",
    "surf = ax.plot_surface(X3, X2, Z, cmap=cm.coolwarm,\n",
    "                       linewidth=0, antialiased=False)\n",
    "\n",
    "ax.set_zlim([1e-1, 2])"
   ]
  },
  {
   "cell_type": "markdown",
   "id": "c4c95819",
   "metadata": {},
   "source": [
    "# Comparison with Assassi/Baumann/Green/McAllister"
   ]
  },
  {
   "cell_type": "markdown",
   "id": "3182a60f",
   "metadata": {},
   "source": [
    "## Power Spectrum and the $d(M)$ function"
   ]
  },
  {
   "cell_type": "code",
   "execution_count": null,
   "id": "d5e735d7",
   "metadata": {},
   "outputs": [],
   "source": [
    "from background_inputs import background_inputs\n",
    "from model import model\n",
    "from solver import solver"
   ]
  },
  {
   "cell_type": "code",
   "execution_count": null,
   "id": "70e43afc",
   "metadata": {},
   "outputs": [],
   "source": [
    "n_back = 500 #Number of points for the background\n",
    "\n",
    "N_load = np.linspace(-5, 10, n_back)\n",
    "H_load = np.ones(n_back) #Hubble scale set to unity\n",
    "m2_load = 1e-1*np.ones(n_back)\n",
    "rho_load = 1e2*np.ones(n_back)\n",
    "\n",
    "\n",
    "mu_load = 0*np.ones(n_back)\n",
    "kappa1_load = 0*np.ones(n_back)\n",
    "kappa2_load = 0*np.ones(n_back)\n",
    "\n",
    "background = background_inputs(N_load, H_load, rho_load, mu_load, m2_load, kappa1_load, kappa2_load)\n",
    "interpolated = background.output()"
   ]
  },
  {
   "cell_type": "code",
   "execution_count": null,
   "id": "622581b9",
   "metadata": {},
   "outputs": [],
   "source": [
    "%matplotlib\n",
    "Nspan = np.linspace(-10, 10, 500)\n",
    "Nfield = 2\n",
    "Rtol, Atol = [1e-4, 1e-5, 1e-3], [1e-100, 1e-100, 1e-6]\n",
    "\n",
    "mdl = model(N = Nspan, Nfield = Nfield, interpolated = interpolated)\n",
    "\n",
    "\n",
    "N_exit = 0\n",
    "k = mdl.k_mode(N_exit)\n",
    "print(\"k = {}\".format(k))\n",
    "\n",
    "DeltaN = 8 # number of efolds before horizon crossing\n",
    "Ni, Nf, Nsample = N_exit - DeltaN, 10, 1000 # sets initial and final efolds for transport equation integration\n",
    "N = np.linspace(Ni, Nf, Nsample)\n",
    "s = solver(Nspan = N, Nfield = Nfield, interpolated = interpolated, Rtol = Rtol, Atol = Atol)\n",
    "\n",
    "\n",
    "start_time = time.time()\n",
    "rescaling = k**3/2/np.pi**2\n",
    "SigmaAB = s.SigmaAB_solution(k = k, part = \"Re\") * rescaling #to have the dimensionless power spectrum\n",
    "print(\"The power spectra computation took\", time.time() - start_time, \"sec to run\")\n",
    "print(\"$d(M)$ = \", np.sqrt(SigmaAB[0, 0][-1])*2*np.pi/rho_load[0]**(1/4))\n",
    "print(\"$M = m^2/\\\\rho = $\", m2_load[0]/rho_load[0])\n",
    "\n",
    "\n",
    "\n",
    "#Plotting the power spectra\n",
    "plt.semilogy(N, np.absolute(SigmaAB[0, 0]), label = \"$XX = \\\\varphi\\\\varphi$\")\n",
    "plt.semilogy(N, np.absolute(SigmaAB[1, 1]), label = \"$XX = \\sigma\\sigma$\")\n",
    "plt.semilogy(N, np.absolute(SigmaAB[0, 1]), label = \"$XX = \\\\varphi\\sigma$\")\n",
    "\n",
    "plt.semilogy(N, np.absolute(SigmaAB[2, 2]), label = \"$XX = p_\\\\varphi p_\\\\varphi$\")\n",
    "plt.semilogy(N, np.absolute(SigmaAB[3, 3]), label = \"$XX = p_\\sigma p_\\sigma$\")\n",
    "plt.semilogy(N, np.absolute(SigmaAB[2, 3]), label = \"$XX = p_\\\\varphi p_\\sigma$\")\n",
    "\n",
    "\n",
    "plt.axvline(x = N_exit, ls = \"--\", color = \"grey\", label = \"$k\\\\tau\\sim 1$\")\n",
    "#plt.axvline(x = -np.log(H_load[0]/k*np.sqrt(rho_load[0])), ls = \"--\", color = \"black\", label = \"$k\\\\tau\\sim \\sqrt{\\\\rho}$\")\n",
    "\n",
    "#cs = 1/np.sqrt(1 + rho_load[0]**2/m2_load[0])\n",
    "#mu_mass = np.sqrt(m2_load[0]/H_load[0]**2 - 9/4)\n",
    "\n",
    "#plt.axvline(x = -np.log(H_load[0]/k/cs), ls = \"--\", color = \"black\", label = \"$c_s k\\\\tau\\sim 1$\")\n",
    "#plt.axvline(x = -np.log(H_load[0]/k*mu_mass), ls = \"--\", color = \"darkred\", label = \"$k\\\\tau\\sim \\mu$\")\n",
    "\n",
    "plt.xlabel(\"$N$\", fontsize = 15)\n",
    "#plt.ylim(1e-5, 1e8)\n",
    "#plt.title(\"$m^2/H^2 = 10, \\\\rho/H = 15$\", fontsize = 15)\n",
    "plt.grid(False)\n",
    "plt.legend(frameon = False)"
   ]
  },
  {
   "cell_type": "code",
   "execution_count": null,
   "id": "0f8fa7a0",
   "metadata": {},
   "outputs": [],
   "source": [
    "sqP = np.asarray([8.1769, 4.5967, 2.6974, 1.9172, 1.03486, 1.00892, 1.002242, 1.000996, 1.0005595, 1.00035])\n",
    "M = np.asarray([1e-3, 1e-2, 1e-1, 1, 10, 20, 40, 60, 80, 100])\n",
    "\n",
    "plt.loglog(M, sqP)\n",
    "plt.loglog(M, 1/M**(1/4))\n",
    "plt.loglog(M, 1/M**(1/2))"
   ]
  },
  {
   "cell_type": "code",
   "execution_count": null,
   "id": "26eb439a",
   "metadata": {},
   "outputs": [],
   "source": [
    "from scipy.special import gamma\n",
    "\n",
    "np.sqrt(2)*2*gamma(5/4)/np.sqrt(np.pi)"
   ]
  },
  {
   "cell_type": "code",
   "execution_count": null,
   "id": "702a5074",
   "metadata": {},
   "outputs": [],
   "source": []
  },
  {
   "cell_type": "code",
   "execution_count": null,
   "id": "ccb13fdd",
   "metadata": {},
   "outputs": [],
   "source": [
    "# Scan\n",
    "\n",
    "n_back = 500 #Number of points for the background\n",
    "\n",
    "N_load = np.linspace(-10, 10, n_back)\n",
    "H_load = np.ones(n_back) #Hubble scale set to unity\n",
    "rho_load = 100*np.ones(n_back)\n",
    "\n",
    "\n",
    "mu_load = 0*np.ones(n_back)\n",
    "kappa1_load = 0*np.ones(n_back)\n",
    "kappa2_load = 0*np.ones(n_back)\n",
    "\n",
    "\n",
    "n_points = 10\n",
    "m2_array = np.logspace(-1, 4, n_points)\n",
    "M = []\n",
    "d = []\n",
    "\n",
    "for i in range(n_points):\n",
    "    m2_load = m2_array[i]*np.ones(n_back)\n",
    "    background = background_inputs(N_load, H_load, rho_load, mu_load, m2_load, kappa1_load, kappa2_load)\n",
    "    interpolated = background.output()\n",
    "    \n",
    "    Nspan = np.linspace(-10, 10, 500)\n",
    "    Nfield = 2\n",
    "    Rtol, Atol = [1e-4, 1e-5, 1e-3], [1e-100, 1e-100, 1e-6]\n",
    "\n",
    "    mdl = model(N = Nspan, Nfield = Nfield, interpolated = interpolated)\n",
    "\n",
    "    N_exit = 0\n",
    "    k = mdl.k_mode(N_exit)\n",
    "    #print(\"k = {}\".format(k))\n",
    "\n",
    "    DeltaN = 8 # number of efolds before horizon crossing\n",
    "    Ni, Nf, Nsample = N_exit - DeltaN, 10, 1000 # sets initial and final efolds for transport equation integration\n",
    "    N = np.linspace(Ni, Nf, Nsample)\n",
    "    s = solver(Nspan = N, Nfield = Nfield, interpolated = interpolated, Rtol = Rtol, Atol = Atol)\n",
    "\n",
    "\n",
    "    start_time = time.time()\n",
    "    rescaling = k**3/2/np.pi**2\n",
    "    SigmaAB = s.SigmaAB_solution(k = k, part = \"Re\") * rescaling #to have the dimensionless power spectrum\n",
    "    print(\"The power spectra computation took\", time.time() - start_time, \"sec to run\")\n",
    "    print(\"$d(M)$ = \", np.sqrt(SigmaAB[0, 0][-1])*2*np.pi/rho_load[0]**(1/4))\n",
    "    print(\"$M = m^2/\\\\rho = $\", m2_load[0]/rho_load[0])\n",
    "    \n",
    "    M.append(m2_load[0]/rho_load[0])\n",
    "    d.append(np.sqrt(SigmaAB[0, 0][-1])*2*np.pi/rho_load[0]**(1/4))\n",
    "    \n",
    "M = np.asarray(M)\n",
    "d = np.asarray(d)\n"
   ]
  },
  {
   "cell_type": "code",
   "execution_count": null,
   "id": "74122bb5",
   "metadata": {},
   "outputs": [],
   "source": [
    "plt.semilogx(M, d)\n",
    "plt.ylim(0, 1.5)\n",
    "plt.xlabel(\"$M/H$\", fontsize = 15)\n",
    "plt.ylabel(\"$d(M)$\", fontsize = 15)\n",
    "plt.title(\"$\\Delta N = 8, \\\\frac{\\\\rho}{H} = 10^2$\", fontsize = 15)\n",
    "#plt.legend(frameon = False)"
   ]
  },
  {
   "cell_type": "markdown",
   "id": "0753dc46",
   "metadata": {},
   "source": [
    "## Bispectrum $f_1(M)$ function"
   ]
  },
  {
   "cell_type": "code",
   "execution_count": 120,
   "id": "e3178a83",
   "metadata": {},
   "outputs": [],
   "source": [
    "from background_inputs import background_inputs\n",
    "from model import model\n",
    "from solver import solver"
   ]
  },
  {
   "cell_type": "code",
   "execution_count": 129,
   "id": "dd018c00",
   "metadata": {},
   "outputs": [],
   "source": [
    "n_back = 500 #Number of points for the background\n",
    "\n",
    "N_load = np.linspace(-10, 10, n_back)\n",
    "H_load = np.ones(n_back) #Hubble scale set to unity\n",
    "m2_load = 1e4*np.ones(n_back)\n",
    "rho_load = 1e2*(np.tanh((N_load + 6.5)/0.1) + 1)/2#1*np.ones(n_back)\n",
    "\n",
    "\n",
    "mu_load = 0*np.ones(n_back)\n",
    "kappa1_load = 1e-50*(np.tanh((-N_load - 6)/0.5) + 1)/2#0*np.ones(n_back)#1*(np.tanh((N_load + 6)/0.5) + 1)/2\n",
    "kappa2_load = 1*(np.tanh((N_load + 6)/0.5) + 1)/2\n",
    "\n",
    "mu1_load = 0*np.ones(n_back)\n",
    "mu2_load = 0*np.ones(n_back)\n",
    "mu3_load = 0*np.ones(n_back)\n",
    "mu4_load = 0*np.ones(n_back)\n",
    "mu5_load = 0*np.ones(n_back)\n",
    "\n",
    "\n",
    "background = background_inputs(N_load, H_load, rho_load, mu_load, m2_load, kappa1_load, kappa2_load, mu1_load, mu2_load, mu3_load, mu4_load, mu5_load)\n",
    "interpolated = background.output()"
   ]
  },
  {
   "cell_type": "code",
   "execution_count": 131,
   "id": "3386f2b3",
   "metadata": {
    "scrolled": true
   },
   "outputs": [
    {
     "name": "stdout",
     "output_type": "stream",
     "text": [
      "k1 = 1.0, k2 = 1.0, k3 = 1.0\n",
      "The spectra/bispectra computation took 443.0072178840637 sec to run\n",
      "S(k1, k2, k3) =  3.555382879723869e-05\n",
      "$f_1(M)$ =  3.9504254219154097e-07\n",
      "$M = m^2/\\rho = $ 100.0\n"
     ]
    }
   ],
   "source": [
    "Nspan = np.linspace(-10, 10, 500)\n",
    "Nfield = 2\n",
    "Rtol, Atol = [1e-3, 1e-3, 1e-3], [1e-6, 1e-3, 1e-180]\n",
    "\n",
    "mdl = model(N = Nspan, Nfield = Nfield, interpolated = interpolated)\n",
    "\n",
    "N_exit = 0\n",
    "kt = mdl.k_mode(N_exit)\n",
    "k1, k2, k3 = kt, kt, kt\n",
    "rescaling = k1**3/2/np.pi**2\n",
    "print(\"k1 = {}, k2 = {}, k3 = {}\".format(k1, k2, k3))\n",
    "\n",
    "DeltaN = 10 # number of efolds before horizon crossing\n",
    "Ni, Nf = N_exit - DeltaN, 10 # sets initial and final efolds for transport equation integration\n",
    "N = np.linspace(Ni, Nf, 100000)\n",
    "s = solver(Nspan = N, Nfield = Nfield, interpolated = interpolated, Rtol = Rtol, Atol = Atol)\n",
    "\n",
    "start_time = time.time()\n",
    "f = s.f_solution(k1 = k1, k2 = k2, k3 = k3)\n",
    "print(\"The spectra/bispectra computation took\", time.time() - start_time, \"sec to run\")\n",
    "\n",
    "print(\"S(k1, k2, k3) = \", 1/(2*np.pi)**4/((f[0][0, 0][-1]*k1**3/2/np.pi**2 + f[1][0, 0][-1]*k2**3/2/np.pi**2 + f[2][0, 0][-1]*k3**3/2/np.pi**2)/3)**2 * (k1*k2*k3)**2 * f[6][0, 0, 0][-1])\n",
    "print(\"$f_1(M)$ = \", 5/18*f[6][0, 0, 0][-1]/f[0][0, 0][-1]**2/rho_load[-1])\n",
    "print(\"$M = m^2/\\\\rho = $\", m2_load[0]/rho_load[-1])"
   ]
  },
  {
   "cell_type": "code",
   "execution_count": null,
   "id": "8a654694",
   "metadata": {},
   "outputs": [],
   "source": [
    "np.sqrt(f[0][0, 0][-1]*kt**3/2/np.pi**2)*2*np.pi/rho_load[-1]**(1/4)"
   ]
  },
  {
   "cell_type": "code",
   "execution_count": 128,
   "id": "a49269b9",
   "metadata": {},
   "outputs": [
    {
     "name": "stdout",
     "output_type": "stream",
     "text": [
      "0.7071067811865475\n",
      "-2.7777777777777783e-06\n"
     ]
    }
   ],
   "source": [
    "cs = 1/np.sqrt(1 + rho_load[-1]**2/m2_load[0])\n",
    "S_theor = -1/18*(1-cs**2)*kappa2_load[-1]*H_load[0]/m2_load[0]\n",
    "print(cs)\n",
    "print(S_theor)"
   ]
  },
  {
   "cell_type": "code",
   "execution_count": 132,
   "id": "82c0e845",
   "metadata": {},
   "outputs": [
    {
     "name": "stdout",
     "output_type": "stream",
     "text": [
      "Using matplotlib backend: MacOSX\n"
     ]
    },
    {
     "data": {
      "text/plain": [
       "(1e-25, 10000000000.0)"
      ]
     },
     "execution_count": 132,
     "metadata": {},
     "output_type": "execute_result"
    }
   ],
   "source": [
    "%matplotlib\n",
    "plt.semilogy(N, np.absolute(f[0][0, 0]), label = \"$\\\\varphi\\\\varphi$\")\n",
    "\n",
    "plt.semilogy(N, np.absolute(f[0][1, 1]), label = \"$\\sigma\\sigma$\")\n",
    "plt.semilogy(N, np.absolute(f[0][0, 1]), label = \"$\\\\varphi\\sigma$\")\n",
    "\n",
    "plt.semilogy(N, np.absolute(f[0][2, 2]), label = \"$p_\\\\varphi p_\\\\varphi$\")\n",
    "plt.semilogy(N, np.absolute(f[0][3, 3]), label = \"$p_\\sigma p_\\sigma$\")\n",
    "plt.semilogy(N, np.absolute(f[0][2, 3]), label = \"$p_\\\\varphi p_\\sigma$\")\n",
    "\n",
    "plt.semilogy(N, np.absolute(f[6][0, 0, 0]), label = \"$\\\\varphi\\\\varphi\\\\varphi$\")\n",
    "#plt.semilogy(N_IC, np.abs(Binit[0, 0, 0]), \"--\")\n",
    "plt.semilogy(N, np.absolute(f[6][1, 1, 1]), label = \"$\\sigma\\sigma\\sigma$\")\n",
    "#plt.semilogy(N_IC, np.abs(Binit[1, 1, 1]), \"--\")\n",
    "\n",
    "cs = 1/np.sqrt(1 + rho_load[-1]**2/m2_load[0])\n",
    "mu_mass = np.sqrt(m2_load[0]/H_load[0]**2 - 9/4)\n",
    "\n",
    "plt.axvline(x = -np.log(H_load[0]/kt*np.sqrt(rho_load[-1])), ls = \"--\", color = \"darkblue\", label = \"$k\\\\tau\\sim \\sqrt{\\\\rho}$\")\n",
    "plt.axvline(x = -np.log(H_load[0]/kt/cs), ls = \"--\", color = \"black\", label = \"$c_s k\\\\tau\\sim 1$\")\n",
    "plt.axvline(x = -np.log(H_load[0]/kt*mu_mass), ls = \"--\", color = \"darkred\", label = \"$k\\\\tau\\sim \\mu$\")\n",
    "\n",
    "plt.xlabel(\"$N$\", fontsize = 15)\n",
    "plt.axvline(x = N_exit, ls = \"--\", color = \"grey\", label = \"horizon crossing\")\n",
    "plt.legend(frameon = False)\n",
    "plt.grid(False)\n",
    "plt.ylim(1e-25, 1e10)"
   ]
  },
  {
   "cell_type": "code",
   "execution_count": null,
   "id": "c506c1de",
   "metadata": {},
   "outputs": [],
   "source": [
    "X = np.asarray([0.01, 0.05, 0.1, 0.5, 1, 5, 10])\n",
    "plt.semilogx(X, np.asarray([3.079, 3.034, 2.977, 2.52, 2.02, 0.31, 0.048])/3*0.45)"
   ]
  },
  {
   "cell_type": "code",
   "execution_count": null,
   "id": "738a506e",
   "metadata": {},
   "outputs": [],
   "source": [
    "#Scan \n",
    "\n",
    "n_back = 500 #Number of points for the background\n",
    "\n",
    "N_load = np.linspace(-10, 10, n_back)\n",
    "H_load = np.ones(n_back) #Hubble scale set to unity\n",
    "rho_load = 1e2*(np.tanh((N_load + 6.5)/0.1) + 1)/2\n",
    "\n",
    "\n",
    "mu_load = 0*np.ones(n_back)\n",
    "kappa1_load = 1*(np.tanh((N_load + 6)/0.5) + 1)/2\n",
    "kappa2_load = 0*np.ones(n_back)\n",
    "\n",
    "mu1_load = 0*np.ones(n_back)\n",
    "mu2_load = 0*np.ones(n_back)\n",
    "mu3_load = 0*np.ones(n_back)\n",
    "mu4_load = 0*np.ones(n_back)\n",
    "mu5_load = 0*np.ones(n_back)\n",
    "\n",
    "\n",
    "n_points = 10\n",
    "m2_array = np.logspace(-1, 4, n_points)\n",
    "M = []\n",
    "f1 = []\n",
    "\n",
    "for i in range(n_points):\n",
    "    print(\"i=\", i)\n",
    "    m2_load = m2_array[i]*np.ones(n_back)\n",
    "    background = background_inputs(N_load, H_load, rho_load, mu_load, m2_load, kappa1_load, kappa2_load, mu1_load, mu2_load, mu3_load, mu4_load, mu5_load)\n",
    "    interpolated = background.output()\n",
    "    \n",
    "    Nspan = np.linspace(-10, 10, 500)\n",
    "    Nfield = 2\n",
    "    Rtol, Atol = [1e-3, 1e-3, 1e-3], [1e-6, 1e-3, 1e-300]\n",
    "\n",
    "    mdl = model(N = Nspan, Nfield = Nfield, interpolated = interpolated)\n",
    "\n",
    "    N_exit = 0\n",
    "    kt = mdl.k_mode(N_exit)\n",
    "    k1, k2, k3 = kt, kt, kt\n",
    "    rescaling = k1**3/2/np.pi**2\n",
    "    #print(\"k1 = {}, k2 = {}, k3 = {}\".format(k1, k2, k3))\n",
    "\n",
    "    DeltaN = 10 # number of efolds before horizon crossing\n",
    "    Ni, Nf = N_exit - DeltaN, 10 # sets initial and final efolds for transport equation integration\n",
    "    N = np.linspace(Ni, Nf, 1000)\n",
    "    s = solver(Nspan = N, Nfield = Nfield, interpolated = interpolated, Rtol = Rtol, Atol = Atol)\n",
    "\n",
    "    start_time = time.time()\n",
    "    f = s.f_solution(k1 = k1, k2 = k2, k3 = k3)\n",
    "    print(\"The spectra/bispectra computation took\", time.time() - start_time, \"sec to run\")\n",
    "\n",
    "    print(\"$f_1(M)$ = \", 5/18*f[6][0, 0, 0][-1]/f[0][0, 0][-1]**2/rho_load[-1])\n",
    "    print(\"$M = m^2/\\\\rho = $\", m2_load[0]/rho_load[-1])\n",
    "    \n",
    "    M.append(m2_load[0]/rho_load[-1])\n",
    "    f1.append(5/18*f[6][0, 0, 0][-1]/f[0][0, 0][-1]**2/rho_load[-1])\n",
    "    \n",
    "M = np.asarray(M)\n",
    "f1 = np.asarray(f1)"
   ]
  },
  {
   "cell_type": "code",
   "execution_count": null,
   "id": "831bfde0",
   "metadata": {},
   "outputs": [],
   "source": [
    "plt.semilogx(M, f1)\n",
    "#plt.loglog(M, 1.5/M)\n",
    "#plt.ylim(0, 1.5)\n",
    "plt.title(\"$\\Delta N = 10, \\\\frac{\\\\rho}{H} = 10^2$\", fontsize = 15)\n",
    "plt.xlabel(\"$M/H$\", fontsize = 15)\n",
    "plt.ylabel(\"$f_1(M)$\", fontsize = 15)\n",
    "#plt.legend(frameon = False)"
   ]
  },
  {
   "cell_type": "code",
   "execution_count": null,
   "id": "2bae16b4",
   "metadata": {},
   "outputs": [],
   "source": [
    "plt.loglog(M, f1, \"-\")\n",
    "plt.loglog(M, 1/M)"
   ]
  },
  {
   "cell_type": "code",
   "execution_count": null,
   "id": "a40ce853",
   "metadata": {},
   "outputs": [],
   "source": [
    "np.save(\"f1.npy\", f1)\n",
    "np.save(\"M_f1.npy\", M)"
   ]
  },
  {
   "cell_type": "markdown",
   "id": "3bef60ce",
   "metadata": {},
   "source": [
    "## Bispectrum $f_2(M)$ function"
   ]
  },
  {
   "cell_type": "code",
   "execution_count": 12,
   "id": "cb544b47",
   "metadata": {},
   "outputs": [],
   "source": [
    "from background_inputs import background_inputs\n",
    "from model import model\n",
    "from solver import solver"
   ]
  },
  {
   "cell_type": "code",
   "execution_count": 99,
   "id": "c3fd54ed",
   "metadata": {},
   "outputs": [],
   "source": [
    "n_back = 500 #Number of points for the background\n",
    "\n",
    "N_load = np.linspace(-10, 10, n_back)\n",
    "H_load = np.ones(n_back) #Hubble scale set to unity\n",
    "m2_load = 1e4*np.ones(n_back)\n",
    "rho_load = 1e2*(np.tanh((N_load + 6.5)/0.1) + 1)/2\n",
    "\n",
    "\n",
    "mu_load = 1*(np.tanh((N_load + 6)/0.5) + 1)/2\n",
    "kappa1_load = 0*(np.tanh((-N_load - 6)/0.1) + 1)/2#0*np.ones(n_back)\n",
    "kappa2_load = 1e-50*(np.tanh((-N_load - 6)/0.1) + 1)/2\n",
    "\n",
    "mu1_load = 0*np.ones(n_back)\n",
    "mu2_load = 0*np.ones(n_back)\n",
    "mu3_load = 0*np.ones(n_back)\n",
    "mu4_load = 0*np.ones(n_back)\n",
    "mu5_load = 0*np.ones(n_back)\n",
    "\n",
    "background = background_inputs(N_load, H_load, rho_load, mu_load, m2_load, kappa1_load, kappa2_load, mu1_load, mu2_load, mu3_load, mu4_load, mu5_load)\n",
    "interpolated = background.output()"
   ]
  },
  {
   "cell_type": "code",
   "execution_count": 100,
   "id": "59dfff13",
   "metadata": {},
   "outputs": [
    {
     "name": "stdout",
     "output_type": "stream",
     "text": [
      "k1 = 1.0, k2 = 1.0, k3 = 1.0\n",
      "The spectra/bispectra computation took 461.981153011322 sec to run\n",
      "S(k1, k2, k3) =  -1.8576913421476378e-07\n",
      "$f_2(M)$ =  -3.448835159118267e-05\n",
      "$M = m^2/\\rho = $ 100.0\n"
     ]
    }
   ],
   "source": [
    "Nspan = np.linspace(-10, 10, 500)\n",
    "Nfield = 2\n",
    "Rtol, Atol = [1e-3, 1e-3, 1e-3], [1e-6, 1e-3, 1e-180]\n",
    "\n",
    "mdl = model(N = Nspan, Nfield = Nfield, interpolated = interpolated)\n",
    "\n",
    "N_exit = 0\n",
    "kt = mdl.k_mode(N_exit)\n",
    "k1, k2, k3 = kt, kt, kt\n",
    "rescaling = k1**3/2/np.pi**2\n",
    "print(\"k1 = {}, k2 = {}, k3 = {}\".format(k1, k2, k3))\n",
    "\n",
    "DeltaN = 10 # number of efolds before horizon crossing\n",
    "Ni, Nf = N_exit - DeltaN, 10 # sets initial and final efolds for transport equation integration\n",
    "N = np.linspace(Ni, Nf, 100000)\n",
    "s = solver(Nspan = N, Nfield = Nfield, interpolated = interpolated, Rtol = Rtol, Atol = Atol)\n",
    "\n",
    "start_time = time.time()\n",
    "f = s.f_solution(k1 = k1, k2 = k2, k3 = k3)\n",
    "print(\"The spectra/bispectra computation took\", time.time() - start_time, \"sec to run\")\n",
    "\n",
    "print(\"S(k1, k2, k3) = \", 1/(2*np.pi)**4/((f[0][0, 0][-1]*k1**3/2/np.pi**2 + f[1][0, 0][-1]*k2**3/2/np.pi**2 + f[2][0, 0][-1]*k3**3/2/np.pi**2)/3)**2 * (k1*k2*k3)**2 * f[6][0, 0, 0][-1])\n",
    "print(\"$f_2(M)$ = \", 5/18*f[6][0, 0, 0][-1]/f[0][0, 0][-1]**2 * 2*np.pi * np.sqrt(f[0][0, 0][-1]) * H_load[0]/mu_load[-1] * (rho_load[-1]/H_load[-1])**(3/4))\n",
    "print(\"$M = m^2/\\\\rho = $\", m2_load[0]/rho_load[-1])"
   ]
  },
  {
   "cell_type": "code",
   "execution_count": 107,
   "id": "e35c0c56",
   "metadata": {},
   "outputs": [
    {
     "name": "stdout",
     "output_type": "stream",
     "text": [
      "Using matplotlib backend: MacOSX\n"
     ]
    },
    {
     "name": "stderr",
     "output_type": "stream",
     "text": [
      "/var/folders/2k/k567rdsx46v7_3gsyc4f07xm0000gp/T/ipykernel_91010/2357093312.py:17: RuntimeWarning: invalid value encountered in sqrt\n",
      "  mu_mass = np.sqrt(m2_load[0]/H_load[0]**2 - 9/4)\n"
     ]
    },
    {
     "data": {
      "text/plain": [
       "(1e-25, 10000000000.0)"
      ]
     },
     "execution_count": 107,
     "metadata": {},
     "output_type": "execute_result"
    }
   ],
   "source": [
    "%matplotlib\n",
    "plt.semilogy(N, np.absolute(f[0][0, 0]), label = \"$\\\\varphi\\\\varphi$\")\n",
    "\n",
    "plt.semilogy(N, np.absolute(f[0][1, 1]), label = \"$\\sigma\\sigma$\")\n",
    "plt.semilogy(N, np.absolute(f[0][0, 1]), label = \"$\\\\varphi\\sigma$\")\n",
    "\n",
    "plt.semilogy(N, np.absolute(f[0][2, 2]), label = \"$p_\\\\varphi p_\\\\varphi$\")\n",
    "plt.semilogy(N, np.absolute(f[0][3, 3]), label = \"$p_\\sigma p_\\sigma$\")\n",
    "plt.semilogy(N, np.absolute(f[0][2, 3]), label = \"$p_\\\\varphi p_\\sigma$\")\n",
    "\n",
    "plt.semilogy(N, np.absolute(f[6][0, 0, 0]), label = \"$\\\\varphi\\\\varphi\\\\varphi$\")\n",
    "#plt.semilogy(N_IC, np.abs(Binit[0, 0, 0]), \"--\")\n",
    "plt.semilogy(N, np.absolute(f[6][1, 1, 1]), label = \"$\\sigma\\sigma\\sigma$\")\n",
    "#plt.semilogy(N_IC, np.abs(Binit[1, 1, 1]), \"--\")\n",
    "\n",
    "#cs = 1/np.sqrt(1 + rho_load[-1]**2/m2_load[0])\n",
    "mu_mass = np.sqrt(m2_load[0]/H_load[0]**2 - 9/4)\n",
    "\n",
    "plt.axvline(x = -np.log(H_load[0]/kt*np.sqrt(rho_load[-1])), ls = \"--\", color = \"darkblue\", label = \"$k\\\\tau\\sim \\sqrt{\\\\rho}$\")\n",
    "#plt.axvline(x = -np.log(H_load[0]/kt/cs), ls = \"--\", color = \"black\", label = \"$c_s k\\\\tau\\sim 1$\")\n",
    "plt.axvline(x = -np.log(H_load[0]/kt*mu_mass), ls = \"--\", color = \"darkred\", label = \"$k\\\\tau\\sim \\mu$\")\n",
    "\n",
    "plt.xlabel(\"$N$\", fontsize = 15)\n",
    "plt.axvline(x = N_exit, ls = \"--\", color = \"grey\", label = \"horizon crossing\")\n",
    "plt.legend(frameon = False)\n",
    "plt.grid(False)\n",
    "plt.ylim(1e-25, 1e10)"
   ]
  },
  {
   "cell_type": "code",
   "execution_count": 48,
   "id": "93ba61ef",
   "metadata": {},
   "outputs": [
    {
     "data": {
      "text/plain": [
       "[<matplotlib.lines.Line2D at 0x7fec992f0ca0>]"
      ]
     },
     "execution_count": 48,
     "metadata": {},
     "output_type": "execute_result"
    }
   ],
   "source": [
    "N_load = np.linspace(-10, 10, 500)\n",
    "y1 = (np.tanh((N_load + 6)/0.4) + 1)/2\n",
    "y2 = (np.tanh((-N_load - 6)/0.4) + 1)/2\n",
    "\n",
    "plt.plot(N_load, y1)\n",
    "plt.plot(N_load, y2)"
   ]
  },
  {
   "cell_type": "code",
   "execution_count": 108,
   "id": "776bed87",
   "metadata": {},
   "outputs": [
    {
     "name": "stdout",
     "output_type": "stream",
     "text": [
      "i= 0\n",
      "The spectra/bispectra computation took 440.46343302726746 sec to run\n",
      "$f_2(M)$ =  1.1875143608172956\n",
      "$M = m^2/\\rho = $ 0.001\n",
      "i= 1\n",
      "The spectra/bispectra computation took 440.5423800945282 sec to run\n",
      "$f_2(M)$ =  1.1854495527159927\n",
      "$M = m^2/\\rho = $ 0.0018329807108324356\n",
      "i= 2\n",
      "The spectra/bispectra computation took 441.4333472251892 sec to run\n",
      "$f_2(M)$ =  1.1816709010937323\n",
      "$M = m^2/\\rho = $ 0.0033598182862837815\n",
      "i= 3\n",
      "The spectra/bispectra computation took 441.04975485801697 sec to run\n",
      "$f_2(M)$ =  1.1747638376665794\n",
      "$M = m^2/\\rho = $ 0.006158482110660264\n",
      "i= 4\n",
      "The spectra/bispectra computation took 440.9948060512543 sec to run\n",
      "$f_2(M)$ =  1.1621679159155052\n",
      "$M = m^2/\\rho = $ 0.011288378916846888\n",
      "i= 5\n",
      "The spectra/bispectra computation took 441.00319266319275 sec to run\n",
      "$f_2(M)$ =  1.1392969212456454\n",
      "$M = m^2/\\rho = $ 0.020691380811147894\n",
      "i= 6\n",
      "The spectra/bispectra computation took 440.63638496398926 sec to run\n",
      "$f_2(M)$ =  1.0980988240139398\n",
      "$M = m^2/\\rho = $ 0.0379269019073225\n",
      "i= 7\n",
      "The spectra/bispectra computation took 440.13268518447876 sec to run\n",
      "$f_2(M)$ =  1.0249869891626475\n",
      "$M = m^2/\\rho = $ 0.06951927961775606\n",
      "i= 8\n",
      "The spectra/bispectra computation took 440.77634620666504 sec to run\n",
      "$f_2(M)$ =  0.8988694948821366\n",
      "$M = m^2/\\rho = $ 0.12742749857031335\n",
      "i= 9\n",
      "The spectra/bispectra computation took 442.9307141304016 sec to run\n",
      "$f_2(M)$ =  0.6930506361955238\n",
      "$M = m^2/\\rho = $ 0.23357214690901212\n",
      "i= 10\n",
      "The spectra/bispectra computation took 442.0038390159607 sec to run\n",
      "$f_2(M)$ =  0.39328239765949785\n",
      "$M = m^2/\\rho = $ 0.42813323987193913\n",
      "i= 11\n",
      "The spectra/bispectra computation took 443.233451128006 sec to run\n",
      "$f_2(M)$ =  0.05451844977948711\n",
      "$M = m^2/\\rho = $ 0.7847599703514606\n",
      "i= 12\n",
      "The spectra/bispectra computation took 444.2400178909302 sec to run\n",
      "$f_2(M)$ =  -0.13949233171035083\n",
      "$M = m^2/\\rho = $ 1.438449888287663\n",
      "i= 13\n",
      "The spectra/bispectra computation took 444.8571991920471 sec to run\n",
      "$f_2(M)$ =  -0.08750325671059155\n",
      "$M = m^2/\\rho = $ 2.636650898730358\n",
      "i= 14\n",
      "The spectra/bispectra computation took 444.2114272117615 sec to run\n",
      "$f_2(M)$ =  -0.018919142196921788\n",
      "$M = m^2/\\rho = $ 4.832930238571752\n",
      "i= 15\n",
      "The spectra/bispectra computation took 443.2704267501831 sec to run\n",
      "$f_2(M)$ =  -0.004018980597609672\n",
      "$M = m^2/\\rho = $ 8.858667904100823\n",
      "i= 16\n",
      "The spectra/bispectra computation took 446.4016580581665 sec to run\n",
      "$f_2(M)$ =  -0.0009430386398786895\n",
      "$M = m^2/\\rho = $ 16.23776739188721\n",
      "i= 17\n",
      "The spectra/bispectra computation took 446.03687596321106 sec to run\n",
      "$f_2(M)$ =  -0.0002088574426509378\n",
      "$M = m^2/\\rho = $ 29.763514416313193\n",
      "i= 18\n",
      "The spectra/bispectra computation took 449.1235818862915 sec to run\n",
      "$f_2(M)$ =  -5.351296416881797e-05\n",
      "$M = m^2/\\rho = $ 54.555947811685144\n",
      "i= 19\n",
      "The spectra/bispectra computation took 450.2367570400238 sec to run\n",
      "$f_2(M)$ =  -3.448835159118267e-05\n",
      "$M = m^2/\\rho = $ 100.0\n"
     ]
    }
   ],
   "source": [
    "#Scan \n",
    "\n",
    "n_back = 500 #Number of points for the background\n",
    "\n",
    "N_load = np.linspace(-10, 10, n_back)\n",
    "H_load = np.ones(n_back) #Hubble scale set to unity\n",
    "rho_load = 1e2*(np.tanh((N_load + 6.5)/0.1) + 1)/2\n",
    "\n",
    "\n",
    "mu_load = 1*(np.tanh((N_load + 6)/0.5) + 1)/2\n",
    "kappa1_load = 0*(np.tanh((-N_load - 6)/0.1) + 1)/2#0*np.ones(n_back)\n",
    "kappa2_load = 1e-50*(np.tanh((-N_load - 6)/0.1) + 1)/2\n",
    "\n",
    "mu1_load = 0*np.ones(n_back)\n",
    "mu2_load = 0*np.ones(n_back)\n",
    "mu3_load = 0*np.ones(n_back)\n",
    "mu4_load = 0*np.ones(n_back)\n",
    "mu5_load = 0*np.ones(n_back)\n",
    "\n",
    "\n",
    "n_points = 20\n",
    "m2_array = np.logspace(-1, 4, n_points)\n",
    "M = []\n",
    "f2 = []\n",
    "\n",
    "for i in range(n_points):\n",
    "    print(\"i=\", i)\n",
    "    m2_load = m2_array[i]*np.ones(n_back)\n",
    "    background = background_inputs(N_load, H_load, rho_load, mu_load, m2_load, kappa1_load, kappa2_load, mu1_load, mu2_load, mu3_load, mu4_load, mu5_load)\n",
    "    interpolated = background.output()\n",
    "    \n",
    "    Nspan = np.linspace(-10, 10, 500)\n",
    "    Nfield = 2\n",
    "    Rtol, Atol = [1e-3, 1e-3, 1e-3], [1e-6, 1e-3, 1e-180]\n",
    "\n",
    "    mdl = model(N = Nspan, Nfield = Nfield, interpolated = interpolated)\n",
    "\n",
    "    N_exit = 0\n",
    "    kt = mdl.k_mode(N_exit)\n",
    "    k1, k2, k3 = kt, kt, kt\n",
    "    rescaling = k1**3/2/np.pi**2\n",
    "    #print(\"k1 = {}, k2 = {}, k3 = {}\".format(k1, k2, k3))\n",
    "\n",
    "    DeltaN = 10 # number of efolds before horizon crossing\n",
    "    Ni, Nf = N_exit - DeltaN, 10 # sets initial and final efolds for transport equation integration\n",
    "    N = np.linspace(Ni, Nf, 1000)\n",
    "    s = solver(Nspan = N, Nfield = Nfield, interpolated = interpolated, Rtol = Rtol, Atol = Atol)\n",
    "\n",
    "    start_time = time.time()\n",
    "    f = s.f_solution(k1 = k1, k2 = k2, k3 = k3)\n",
    "    print(\"The spectra/bispectra computation took\", time.time() - start_time, \"sec to run\")\n",
    "\n",
    "    print(\"$f_2(M)$ = \", 5/18*f[6][0, 0, 0][-1]/f[0][0, 0][-1]**2 * 2*np.pi * np.sqrt(f[0][0, 0][-1]) * H_load[0]/mu_load[-1] * (rho_load[-1]/H_load[-1])**(3/4))\n",
    "    print(\"$M = m^2/\\\\rho = $\", m2_load[0]/rho_load[-1])\n",
    "    \n",
    "    M.append(m2_load[0]/rho_load[-1])\n",
    "    f2.append(5/18*f[6][0, 0, 0][-1]/f[0][0, 0][-1]**2 * 2*np.pi * np.sqrt(f[0][0, 0][-1]) * H_load[0]/mu_load[-1] * (rho_load[-1]/H_load[-1])**(3/4))\n",
    "    \n",
    "M = np.asarray(M)\n",
    "f2 = np.asarray(f2)"
   ]
  },
  {
   "cell_type": "code",
   "execution_count": 118,
   "id": "8f7f1506",
   "metadata": {},
   "outputs": [
    {
     "data": {
      "text/plain": [
       "Text(0, 0.5, '$f_2(M)$')"
      ]
     },
     "execution_count": 118,
     "metadata": {},
     "output_type": "execute_result"
    }
   ],
   "source": [
    "plt.loglog(M, np.absolute(f2), \".\")\n",
    "plt.loglog(M, 1/M**(9/4))\n",
    "#plt.ylim(0, 1.5)\n",
    "plt.title(\"$\\Delta N = 10, \\\\frac{\\\\rho}{H} = 10^2$\", fontsize = 15)\n",
    "plt.xlabel(\"$M/H$\", fontsize = 15)\n",
    "plt.ylabel(\"$f_2(M)$\", fontsize = 15)\n",
    "#plt.legend(frameon = False)"
   ]
  },
  {
   "cell_type": "code",
   "execution_count": 110,
   "id": "eae0bf3c",
   "metadata": {},
   "outputs": [],
   "source": [
    "np.save(\"f2.npy\", f2)\n",
    "np.save(\"M_f2.npy\", M)"
   ]
  },
  {
   "cell_type": "markdown",
   "id": "061a5b8c",
   "metadata": {},
   "source": [
    "## Bispectrum $f_3(M)$ function"
   ]
  },
  {
   "cell_type": "code",
   "execution_count": null,
   "id": "47033809",
   "metadata": {},
   "outputs": [],
   "source": []
  },
  {
   "cell_type": "markdown",
   "id": "461366d1",
   "metadata": {},
   "source": [
    "# Compute field-space geometry"
   ]
  },
  {
   "cell_type": "code",
   "execution_count": null,
   "id": "9c5489e8",
   "metadata": {},
   "outputs": [],
   "source": [
    "from gravipy.tensorial import * # import GraviPy package\n",
    "from sympy import init_printing\n",
    "import inspect\n",
    "init_printing()"
   ]
  },
  {
   "cell_type": "code",
   "execution_count": null,
   "id": "d07a26c2",
   "metadata": {},
   "outputs": [],
   "source": [
    "# define some symbolic variables\n",
    "phi, sigma, Lambda = symbols('\\phi, \\sigma, \\Lambda')\n",
    "# create a coordinate four-vector object instantiating \n",
    "# the Coordinates class\n",
    "x = Coordinates('\\chi', [phi, sigma])\n",
    "# define a matrix of a metric tensor components\n",
    "Metric = Matrix([[1 + sigma/Lambda, -sigma/Lambda], [-sigma/Lambda, 1]])\n",
    "# create a metric tensor object instantiating the MetricTensor class\n",
    "g = MetricTensor('g', x, Metric)"
   ]
  },
  {
   "cell_type": "code",
   "execution_count": null,
   "id": "9d4dc4d7",
   "metadata": {},
   "outputs": [],
   "source": [
    "print([cls.__name__ for cls in vars()['Tensor'].__subclasses__()])"
   ]
  },
  {
   "cell_type": "code",
   "execution_count": null,
   "id": "d5cdd9dd",
   "metadata": {},
   "outputs": [],
   "source": [
    "Ga = Christoffel('Ga', g)\n",
    "Ga(1, 2, 1)"
   ]
  },
  {
   "cell_type": "code",
   "execution_count": null,
   "id": "6f185334",
   "metadata": {},
   "outputs": [],
   "source": [
    "Ri = Ricci('Ri', g)\n",
    "Ri(All, All)"
   ]
  },
  {
   "cell_type": "code",
   "execution_count": null,
   "id": "a43b16c9",
   "metadata": {},
   "outputs": [],
   "source": [
    "Ri.scalar()"
   ]
  },
  {
   "cell_type": "code",
   "execution_count": null,
   "id": "2b790f28",
   "metadata": {},
   "outputs": [],
   "source": [
    "g(All, All)"
   ]
  },
  {
   "cell_type": "markdown",
   "id": "836b2b4d",
   "metadata": {},
   "source": [
    "# Massive test field in dS with cubic interactions with the Transport Approach"
   ]
  },
  {
   "cell_type": "code",
   "execution_count": 2,
   "id": "e5c8e9ae",
   "metadata": {},
   "outputs": [],
   "source": [
    "from background_inputs import background_inputs\n",
    "from model import model\n",
    "from solver import solver"
   ]
  },
  {
   "cell_type": "code",
   "execution_count": 3,
   "id": "fa89e8ef",
   "metadata": {},
   "outputs": [],
   "source": [
    "n_back = 500 #Number of points for the background\n",
    "\n",
    "N_load = np.linspace(-10, 10, n_back)\n",
    "H_load = np.ones(n_back) #Hubble scale set to unity\n",
    "m2_load = 1*np.ones(n_back)\n",
    "rho_load = 0*np.ones(n_back)\n",
    "\n",
    "mu1_load = 0*np.ones(n_back)\n",
    "mu2_load = 1*np.ones(n_back)#(np.tanh((N_load + 6)/0.75) + 1)/2#(np.tanh((N_load + 4)/0.1) + 1)/2\n",
    "mu3_load = 0*np.ones(n_back)\n",
    "mu4_load = 0*np.ones(n_back)\n",
    "mu5_load = 0*np.ones(n_back)#(np.tanh((N_load + 6)/0.1) + 1)/2\n",
    "\n",
    "\n",
    "mu_load = 0*np.ones(n_back)\n",
    "kappa1_load = 0*np.ones(n_back)\n",
    "kappa2_load = 0*np.ones(n_back)\n",
    "\n",
    "background = background_inputs(N_load, H_load, rho_load, mu_load, m2_load, kappa1_load, kappa2_load, mu1_load, mu2_load, mu3_load, mu4_load, mu5_load)\n",
    "interpolated = background.output()"
   ]
  },
  {
   "cell_type": "code",
   "execution_count": 4,
   "id": "c3947ccc",
   "metadata": {},
   "outputs": [
    {
     "name": "stdout",
     "output_type": "stream",
     "text": [
      "k1 = 1.0, k2 = 1.0, k3 = 1.0\n",
      "The spectra/bispectra computation took 4.801689863204956 sec to run\n",
      "S(k1, k2, k3) =  16.479956879821344\n"
     ]
    }
   ],
   "source": [
    "Nspan = np.linspace(-10, 10, 500)\n",
    "Nfield = 2\n",
    "Rtol, Atol = [1e-3, 1e-3, 1e-4], [1e-6, 1e-3, 1e-180]\n",
    "\n",
    "mdl = model(N = Nspan, Nfield = Nfield, interpolated = interpolated)\n",
    "\n",
    "N_exit = 0\n",
    "kt = mdl.k_mode(N_exit)\n",
    "k1, k2, k3 = kt, kt, kt\n",
    "rescaling = k1**3/2/np.pi**2\n",
    "print(\"k1 = {}, k2 = {}, k3 = {}\".format(k1, k2, k3))\n",
    "\n",
    "DeltaN = 5 # number of efolds before horizon crossing\n",
    "Ni, Nf = N_exit - DeltaN, 10 # sets initial and final efolds for transport equation integration\n",
    "N = np.linspace(Ni, Nf, 100000)\n",
    "s = solver(Nspan = N, Nfield = Nfield, interpolated = interpolated, Rtol = Rtol, Atol = Atol)\n",
    "\n",
    "start_time = time.time()\n",
    "f = s.f_solution(k1 = k1, k2 = k2, k3 = k3)\n",
    "print(\"The spectra/bispectra computation took\", time.time() - start_time, \"sec to run\")\n",
    "\n",
    "print(\"S(k1, k2, k3) = \", 1/(2*np.pi)**4/((f[0][0, 0][-1]*k1**3/2/np.pi**2 + f[1][0, 0][-1]*k2**3/2/np.pi**2 + f[2][0, 0][-1]*k3**3/2/np.pi**2)/3)**2 * (k1*k2*k3)**2 * f[6][0, 0, 0][-1])"
   ]
  },
  {
   "cell_type": "code",
   "execution_count": 5,
   "id": "e4f4b896",
   "metadata": {},
   "outputs": [
    {
     "name": "stdout",
     "output_type": "stream",
     "text": [
      "Using matplotlib backend: MacOSX\n"
     ]
    }
   ],
   "source": [
    "%matplotlib\n",
    "plt.semilogy(N, np.absolute(f[0][0, 0]), label = \"$\\sigma\\sigma$\", color = \"C4\")\n",
    "plt.semilogy(N, np.absolute(f[0][0, 2]), label = \"$\\sigma p_\\sigma$\", color = \"C5\")\n",
    "plt.semilogy(N, np.absolute(f[0][2, 2]), label = \"$p_\\sigma p_\\sigma$\", color = \"C6\")\n",
    "\n",
    "plt.semilogy(N, np.absolute(f[6][0, 0, 0]), label = \"$\\sigma\\sigma\\sigma$\", color = \"C0\")\n",
    "#plt.semilogy(N_IC, np.abs(Binit[0, 0, 0]), ls = \"--\", color = \"C0\")\n",
    "plt.semilogy(N, np.absolute(f[6][0, 0, 2]), label = \"$\\sigma\\sigma p_\\sigma$\", color = \"C1\")\n",
    "#plt.semilogy(N_IC, np.abs(Binit[0, 0, 2]), ls = \"--\", color = \"C1\")\n",
    "plt.semilogy(N, np.absolute(f[6][0, 2, 2]), label = \"$\\sigma p_\\sigma p_\\sigma$\", color = \"C2\")\n",
    "#plt.semilogy(N_IC, np.abs(Binit[0, 2, 2]), ls = \"--\", color = \"C2\")\n",
    "plt.semilogy(N, np.absolute(f[6][2, 2, 2]), label = \"$p_\\sigma p_\\sigma p_\\sigma$\", color = \"C3\")\n",
    "#plt.semilogy(N_IC, np.abs(Binit[2, 2, 2]), ls = \"--\", color = \"C3\")\n",
    "\n",
    "#plt.semilogy(N_IC, 1e2*np.exp(-3*N_IC))\n",
    "\n",
    "\"\"\"Light field\"\"\"\n",
    "#nu_mass = np.sqrt(9/4 - m2_load[0]/H_load[0]**2)\n",
    "#plt.semilogy(N, np.exp(-(3 - 2*nu_mass)*N), \"--\", color = \"black\", label = \"$1/a^{3-2\\\\nu}$\")\n",
    "\n",
    "\n",
    "\"\"\"Heavy field\"\"\"\n",
    "#mu_mass = np.sqrt(m2_load[0]/H_load[0]**2 - 9/4)\n",
    "#plt.axvline(x = -np.log(H_load[0]/kt*mu_mass), ls = \"--\", color = \"darkred\", label = \"$k\\\\tau\\sim \\mu$\")\n",
    "#plt.semilogy(N, np.exp(-3*N), \"--\", color = \"black\", label = \"$1/a^{3}$\")\n",
    "\n",
    "plt.title(\"$m^2 = H^2$, $\\mu_2 = 1$, $N_0 = -6$, $\\delta N = 0.75$, $\\Delta N = 10$\", fontsize = 15)\n",
    "plt.ylabel(\"$S(k, k, k) = 298.18$\", fontsize = 15)\n",
    "#plt.title(\"$m^2 = 10H^2$\", fontsize = 15)\n",
    "plt.xlabel(\"$N$\", fontsize = 15)\n",
    "plt.axvline(x = N_exit, ls = \"--\", color = \"grey\", label = \"horizon crossing\")\n",
    "plt.legend(frameon = False)\n",
    "plt.grid(False)"
   ]
  },
  {
   "cell_type": "code",
   "execution_count": null,
   "id": "1668b44d",
   "metadata": {},
   "outputs": [],
   "source": [
    "\"\"\"Oscillations for the heavy field\"\"\"\n",
    "\n",
    "#plt.semilogy(N_IC, np.abs(Binit[0, 0, 0]), ls = \"--\")\n",
    "#plt.semilogy(N, np.absolute(f[0][0, 0])*np.exp(3*N), label = \"$\\sigma\\sigma$\")\n",
    "plt.semilogy(N, np.absolute(f[6][0, 2, 2])*np.exp(3*N), label = \"$\\sigma\\sigma\\sigma$\")\n",
    "plt.xlabel(\"$N$\", fontsize = 15)\n",
    "plt.axvline(x = N_exit, ls = \"--\", color = \"grey\", label = \"horizon crossing\")\n",
    "plt.legend(frameon = False)\n",
    "plt.grid(False)\n"
   ]
  },
  {
   "cell_type": "code",
   "execution_count": null,
   "id": "c199fc84",
   "metadata": {},
   "outputs": [],
   "source": [
    "\"\"\"Initial conditions\"\"\"\n",
    "\n",
    "Nfield = 2\n",
    "N_IC = np.linspace(-10, 10, 1000)\n",
    "Rtol, Atol = [1e-3, 1e-5, 1e-3], [1e-1, 1e-100, 1e-6]\n",
    "\n",
    "Binit = np.zeros((2*Nfield, 2*Nfield, 2*Nfield, len(N_IC)))\n",
    "for i in range(len(N_IC)):\n",
    "    Ni = np.asarray([N_IC[i]])\n",
    "    s = solver(Nspan = Ni, Nfield = Nfield, interpolated = interpolated, Rtol = Rtol, Atol = Atol)\n",
    "    Binit[:, :, :, i] = s.B_init(k1, k2, k3)"
   ]
  },
  {
   "cell_type": "code",
   "execution_count": null,
   "id": "66acdec9",
   "metadata": {},
   "outputs": [],
   "source": []
  },
  {
   "cell_type": "code",
   "execution_count": null,
   "id": "616d7f15",
   "metadata": {},
   "outputs": [],
   "source": []
  },
  {
   "cell_type": "code",
   "execution_count": null,
   "id": "f2c3c81f",
   "metadata": {},
   "outputs": [],
   "source": [
    "x = np.linspace(-10, 0, 500)\n",
    "\n",
    "x0 = 5\n",
    "deltax = 0.1\n",
    "plt.plot(x, (np.tanh((x + x0)/deltax) + 1)/2, label = \"$\\delta N = 0.1, N_0 = -5$\")\n",
    "\n",
    "x0 = 5.5\n",
    "deltax = 0.5\n",
    "plt.plot(x, (np.tanh((x + x0)/deltax) + 1)/2, label = \"$\\delta N = 0.5, N_0 = -5.5$\")\n",
    "\n",
    "x0 = 6\n",
    "deltax = 0.75\n",
    "plt.plot(x, (np.tanh((x + x0)/deltax) + 1)/2, label = \"$\\delta N = 0.75, N_0 = -6$\")\n",
    "\n",
    "plt.legend(frameon = False)\n",
    "plt.xlabel(\"$N$\", fontsize = 15)\n",
    "plt.ylabel(\"$\\mu(N) = \\mu\\\\left[\\\\tanh\\\\frac{N + N_0}{\\delta N} +1\\\\right]/2$\", fontsize = 15)"
   ]
  },
  {
   "cell_type": "code",
   "execution_count": null,
   "id": "d371936f",
   "metadata": {},
   "outputs": [],
   "source": []
  }
 ],
 "metadata": {
  "kernelspec": {
   "display_name": "Python 3 (ipykernel)",
   "language": "python",
   "name": "python3"
  },
  "language_info": {
   "codemirror_mode": {
    "name": "ipython",
    "version": 3
   },
   "file_extension": ".py",
   "mimetype": "text/x-python",
   "name": "python",
   "nbconvert_exporter": "python",
   "pygments_lexer": "ipython3",
   "version": "3.9.7"
  }
 },
 "nbformat": 4,
 "nbformat_minor": 5
}
